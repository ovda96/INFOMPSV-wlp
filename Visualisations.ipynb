{
 "cells": [
  {
   "cell_type": "markdown",
   "metadata": {},
   "source": [
    "# Project Visualisations"
   ]
  },
  {
   "cell_type": "markdown",
   "metadata": {},
   "source": [
    "## Import Libraries"
   ]
  },
  {
   "cell_type": "code",
   "execution_count": null,
   "metadata": {},
   "outputs": [],
   "source": [
    "import pandas as pd\n",
    "import matplotlib.pyplot as plt"
   ]
  },
  {
   "cell_type": "markdown",
   "metadata": {},
   "source": [
    "## Setup CSV"
   ]
  },
  {
   "cell_type": "code",
   "execution_count": null,
   "metadata": {},
   "outputs": [],
   "source": [
    "df_FS = pd.read_csv('feasibility_strategys.csv')\n",
    "df_LT = pd.read_csv('length_time.csv')\n",
    "df_PT = pd.read_csv('paths_time.csv')\n",
    "df_PT.head()"
   ]
  },
  {
   "cell_type": "markdown",
   "metadata": {},
   "source": [
    "## Final Visualisations"
   ]
  },
  {
   "cell_type": "markdown",
   "metadata": {},
   "source": [
    "### DivByN"
   ]
  },
  {
   "cell_type": "markdown",
   "metadata": {},
   "source": [
    "#### Path Length vs Run Time (Pruning variations)"
   ]
  },
  {
   "cell_type": "code",
   "execution_count": null,
   "metadata": {},
   "outputs": [],
   "source": [
    "x = df_FS.iloc[:, 0]\n",
    "\n",
    "for i in range(1, 7):\n",
    "    if i == 1:\n",
    "        plt.plot(x, df_FS.iloc[:, i], label=f'Pruning Disabled')\n",
    "    elif i == 2:\n",
    "        plt.plot(x, df_FS.iloc[:, i], label=f'Always Check')\n",
    "    elif i == 3:\n",
    "        plt.plot(x, df_FS.iloc[:, i], label=f'Chance (m-c)/m')\n",
    "    elif i == 4:\n",
    "        plt.plot(x, df_FS.iloc[:, i], label=f'1/2')\n",
    "    elif i == 5:\t\n",
    "        plt.plot(x, df_FS.iloc[:, i], label=f'1/4')\n",
    "    else:  \n",
    "        plt.plot(x, df_FS.iloc[:, i], label=f'1/8')\n",
    "\n",
    "plt.xlabel('Path Length')\n",
    "plt.ylabel('Running time')\n",
    "plt.title('Path length vs Running time')\n",
    "plt.legend()\n",
    "plt.show()"
   ]
  },
  {
   "cell_type": "markdown",
   "metadata": {},
   "source": [
    "#### Run Time vs (No)Heuristic"
   ]
  },
  {
   "cell_type": "code",
   "execution_count": null,
   "metadata": {},
   "outputs": [],
   "source": [
    "x = df_LT.iloc[:, 0]\n",
    "timeout_threshold = 60000000\n",
    "\n",
    "for i in range(1, 3):\n",
    "    if i == 1:\n",
    "        plt.plot(x, df_LT.iloc[:, i], label=f'Pruning Disabled')\n",
    "    else:\n",
    "        plt.plot(x, df_LT.iloc[:, i], label=f'Pruning Enabled')\n",
    "\n",
    "\n",
    "plt.yscale('log')\n",
    "plt.axhline(y=timeout_threshold, color='red', linestyle='--', label='Timeout Threshold (60,000,000)')\n",
    "plt.xlabel('Path Length')\n",
    "plt.ylabel('Running time')\n",
    "plt.title('Path length vs Running time')\n",
    "plt.legend()\n",
    "plt.show()\n"
   ]
  },
  {
   "cell_type": "markdown",
   "metadata": {},
   "source": [
    "#### Run Time vs Paths Generated"
   ]
  },
  {
   "cell_type": "code",
   "execution_count": null,
   "metadata": {},
   "outputs": [],
   "source": [
    "x = df_PT.iloc[:, 1]\n",
    "timeout_threshold = 60000000\n",
    "\n",
    "plt.plot(x, df_PT.iloc[:, 2], label=f'Paths')\n",
    "\n",
    "plt.xscale('log')\n",
    "plt.axvline(x=timeout_threshold, color='red', linestyle='--', label='Timeout Threshold (60,000,000)')\n",
    "plt.xlabel('Running Time')\n",
    "plt.ylabel('Paths Generated')\n",
    "plt.title('Running Time vs Paths Generated')\n",
    "plt.legend()\n",
    "plt.show()\n"
   ]
  },
  {
   "cell_type": "markdown",
   "metadata": {},
   "source": [
    "### MemberOf"
   ]
  },
  {
   "cell_type": "markdown",
   "metadata": {},
   "source": [
    "#### Path Length vs Run Time (Pruning variations)"
   ]
  },
  {
   "cell_type": "code",
   "execution_count": null,
   "metadata": {},
   "outputs": [],
   "source": [
    "x = df_FS.iloc[:, 0]\n",
    "\n",
    "for i in range(7, 13):\n",
    "    if i == 7:\n",
    "        plt.plot(x, df_FS.iloc[:, i], label=f'Pruning Disabled')\n",
    "    elif i == 8:\n",
    "        plt.plot(x, df_FS.iloc[:, i], label=f'Always Check')\n",
    "    elif i == 9:\n",
    "        plt.plot(x, df_FS.iloc[:, i], label=f'Chance (m-c)/m')\n",
    "    elif i == 10:\n",
    "        plt.plot(x, df_FS.iloc[:, i], label=f'1/2')\n",
    "    elif i == 11:\n",
    "        plt.plot(x, df_FS.iloc[:, i], label=f'1/4')\n",
    "    else: \n",
    "        plt.plot(x, df_FS.iloc[:, i], label=f'1/8')\n",
    "\n",
    "plt.xlabel('Path Length')\n",
    "plt.ylabel('Running time')\n",
    "plt.title('Path length vs Running time')\n",
    "plt.legend()\n",
    "plt.show()"
   ]
  },
  {
   "cell_type": "markdown",
   "metadata": {},
   "source": [
    "#### Run Time vs (No)Heuristic"
   ]
  },
  {
   "cell_type": "code",
   "execution_count": null,
   "metadata": {},
   "outputs": [],
   "source": [
    "x = df_LT.iloc[:, 0]\n",
    "timeout_threshold = 60000000\n",
    "\n",
    "for i in range(3, 5):\n",
    "    if i == 3:\n",
    "        plt.plot(x, df_LT.iloc[:, i], label=f'Pruning Disabled')\n",
    "    else:\n",
    "        plt.plot(x, df_LT.iloc[:, i], label=f'Pruning Enabled')\n",
    "\n",
    "plt.yscale('log')\n",
    "plt.axhline(y=timeout_threshold, color='red', linestyle='--', label='Timeout Threshold (60,000,000)')\n",
    "plt.xlabel('Path Length')\n",
    "plt.ylabel('Running time')\n",
    "plt.title('Path length vs Running time')\n",
    "plt.legend()\n",
    "plt.show()"
   ]
  },
  {
   "cell_type": "markdown",
   "metadata": {},
   "source": [
    "#### Run Time vs Paths Generated"
   ]
  },
  {
   "cell_type": "code",
   "execution_count": null,
   "metadata": {},
   "outputs": [],
   "source": [
    "x = df_PT.iloc[:, 4]\n",
    "\n",
    "plt.plot(x, df_PT.iloc[:, 5], label=f'Paths')\n",
    "\n",
    "plt.xlabel('Running Time')\n",
    "plt.ylabel('Paths Generated')\n",
    "plt.title('Running Time vs Paths Generated')\n",
    "plt.legend()\n",
    "plt.show()\n"
   ]
  },
  {
   "cell_type": "markdown",
   "metadata": {},
   "source": [
    "### PullUp"
   ]
  },
  {
   "cell_type": "markdown",
   "metadata": {},
   "source": [
    "#### Path Length vs Run Time (Pruning variations)"
   ]
  },
  {
   "cell_type": "code",
   "execution_count": null,
   "metadata": {},
   "outputs": [],
   "source": [
    "x = df_FS.iloc[:, 0]\n",
    "\n",
    "for i in range(13, 19):\n",
    "    if i == 13:\n",
    "        plt.plot(x, df_FS.iloc[:, i], label=f'Pruning Disabled')\n",
    "    elif i == 14:\n",
    "        plt.plot(x, df_FS.iloc[:, i], label=f'Always Check')\n",
    "    elif i == 15:\n",
    "        plt.plot(x, df_FS.iloc[:, i], label=f'Chance (m-c)/m')\n",
    "    elif i == 16:\n",
    "        plt.plot(x, df_FS.iloc[:, i], label=f'1/2')\n",
    "    elif i == 17:\n",
    "        plt.plot(x, df_FS.iloc[:, i], label=f'1/4')\n",
    "    else: \n",
    "        plt.plot(x, df_FS.iloc[:, i], label=f'1/8')\n",
    "\n",
    "plt.xlabel('Path Length')\n",
    "plt.ylabel('Running time')\n",
    "plt.title('Path length vs Running time')\n",
    "plt.legend()\n",
    "plt.show()"
   ]
  },
  {
   "cell_type": "markdown",
   "metadata": {},
   "source": [
    "#### Run Time vs (No)Heuristic"
   ]
  },
  {
   "cell_type": "code",
   "execution_count": null,
   "metadata": {},
   "outputs": [],
   "source": [
    "x = df_LT.iloc[:, 0]\n",
    "timeout_threshold = 60000000\n",
    "\n",
    "for i in range(5, 7):\n",
    "    if i == 5:\n",
    "        plt.plot(x, df_LT.iloc[:, i], label=f'Pruning Disabled')\n",
    "    else:\n",
    "        plt.plot(x, df_LT.iloc[:, i], label=f'Pruning Enabled')\n",
    "\n",
    "\n",
    "plt.yscale('log')\n",
    "plt.axhline(y=timeout_threshold, color='red', linestyle='--', label='Timeout Threshold (60,000,000)')\n",
    "plt.xlabel('Path Length')\n",
    "plt.ylabel('Running time')\n",
    "plt.title('Path length vs Running time')\n",
    "plt.legend()\n",
    "plt.show()"
   ]
  },
  {
   "cell_type": "markdown",
   "metadata": {},
   "source": [
    "#### Run Time vs Paths Generated"
   ]
  },
  {
   "cell_type": "code",
   "execution_count": null,
   "metadata": {},
   "outputs": [],
   "source": [
    "x = df_PT.iloc[:, 7]\n",
    "timeout_threshold = 60000000\n",
    "\n",
    "plt.plot(x, df_PT.iloc[:, 8], label=f'Paths')\n",
    "\n",
    "plt.xscale('log')\n",
    "plt.axvline(x=timeout_threshold, color='red', linestyle='--', label='Timeout Threshold (60,000,000)')\n",
    "plt.xlabel('Running Time')\n",
    "plt.ylabel('Paths Generated')\n",
    "plt.title('Running Time vs Paths Generated')\n",
    "plt.legend()\n",
    "plt.show()"
   ]
  }
 ],
 "metadata": {
  "kernelspec": {
   "display_name": "Python 3",
   "language": "python",
   "name": "python3"
  },
  "language_info": {
   "codemirror_mode": {
    "name": "ipython",
    "version": 3
   },
   "file_extension": ".py",
   "mimetype": "text/x-python",
   "name": "python",
   "nbconvert_exporter": "python",
   "pygments_lexer": "ipython3",
   "version": "3.13.0"
  }
 },
 "nbformat": 4,
 "nbformat_minor": 2
}
